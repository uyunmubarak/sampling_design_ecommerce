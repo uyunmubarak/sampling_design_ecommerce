{
 "cells": [
  {
   "attachments": {},
   "cell_type": "markdown",
   "metadata": {},
   "source": [
    "# Penentuan Ukuran Sampel"
   ]
  },
  {
   "cell_type": "code",
   "execution_count": 1,
   "metadata": {},
   "outputs": [],
   "source": [
    "#load data manipulation package\n",
    "import pandas as pd\n",
    "import numpy as np\n",
    "import statistics"
   ]
  },
  {
   "attachments": {},
   "cell_type": "markdown",
   "metadata": {},
   "source": [
    "Pertama, lakukan load data pada file \"pelakuusaha.csv\""
   ]
  },
  {
   "cell_type": "code",
   "execution_count": 2,
   "metadata": {},
   "outputs": [
    {
     "data": {
      "text/html": [
       "<div>\n",
       "<style scoped>\n",
       "    .dataframe tbody tr th:only-of-type {\n",
       "        vertical-align: middle;\n",
       "    }\n",
       "\n",
       "    .dataframe tbody tr th {\n",
       "        vertical-align: top;\n",
       "    }\n",
       "\n",
       "    .dataframe thead th {\n",
       "        text-align: right;\n",
       "    }\n",
       "</style>\n",
       "<table border=\"1\" class=\"dataframe\">\n",
       "  <thead>\n",
       "    <tr style=\"text-align: right;\">\n",
       "      <th></th>\n",
       "      <th>Kategori</th>\n",
       "      <th>JK_Laki_Laki</th>\n",
       "      <th>JK_Perempuan</th>\n",
       "      <th>Total</th>\n",
       "    </tr>\n",
       "  </thead>\n",
       "  <tbody>\n",
       "    <tr>\n",
       "      <th>0</th>\n",
       "      <td>A</td>\n",
       "      <td>42</td>\n",
       "      <td>150</td>\n",
       "      <td>192</td>\n",
       "    </tr>\n",
       "    <tr>\n",
       "      <th>1</th>\n",
       "      <td>C</td>\n",
       "      <td>369</td>\n",
       "      <td>1265</td>\n",
       "      <td>1634</td>\n",
       "    </tr>\n",
       "    <tr>\n",
       "      <th>2</th>\n",
       "      <td>G</td>\n",
       "      <td>1763</td>\n",
       "      <td>4256</td>\n",
       "      <td>6019</td>\n",
       "    </tr>\n",
       "    <tr>\n",
       "      <th>3</th>\n",
       "      <td>H</td>\n",
       "      <td>253</td>\n",
       "      <td>0</td>\n",
       "      <td>253</td>\n",
       "    </tr>\n",
       "    <tr>\n",
       "      <th>4</th>\n",
       "      <td>I</td>\n",
       "      <td>197</td>\n",
       "      <td>1116</td>\n",
       "      <td>1313</td>\n",
       "    </tr>\n",
       "    <tr>\n",
       "      <th>5</th>\n",
       "      <td>J</td>\n",
       "      <td>154</td>\n",
       "      <td>284</td>\n",
       "      <td>438</td>\n",
       "    </tr>\n",
       "    <tr>\n",
       "      <th>6</th>\n",
       "      <td>N</td>\n",
       "      <td>0</td>\n",
       "      <td>76</td>\n",
       "      <td>76</td>\n",
       "    </tr>\n",
       "    <tr>\n",
       "      <th>7</th>\n",
       "      <td>S</td>\n",
       "      <td>185</td>\n",
       "      <td>116</td>\n",
       "      <td>301</td>\n",
       "    </tr>\n",
       "  </tbody>\n",
       "</table>\n",
       "</div>"
      ],
      "text/plain": [
       "  Kategori  JK_Laki_Laki  JK_Perempuan  Total\n",
       "0        A            42           150    192\n",
       "1        C           369          1265   1634\n",
       "2        G          1763          4256   6019\n",
       "3        H           253             0    253\n",
       "4        I           197          1116   1313\n",
       "5        J           154           284    438\n",
       "6        N             0            76     76\n",
       "7        S           185           116    301"
      ]
     },
     "execution_count": 2,
     "metadata": {},
     "output_type": "execute_result"
    }
   ],
   "source": [
    "#load data from csv file\n",
    "df_usaha = pd.read_csv('pelakuusaha.csv')\n",
    "df_usaha"
   ]
  },
  {
   "attachments": {},
   "cell_type": "markdown",
   "metadata": {},
   "source": [
    "Selanjutnya, lakukan penghitungan total dari strata 1 dan strata 2"
   ]
  },
  {
   "cell_type": "code",
   "execution_count": 3,
   "metadata": {},
   "outputs": [
    {
     "name": "stdout",
     "output_type": "stream",
     "text": [
      "Total Strata 1 adalah 2963\n"
     ]
    }
   ],
   "source": [
    "#calculate strata 1\n",
    "total_strata_1 = df_usaha['JK_Laki_Laki'].sum()\n",
    "print(f\"Total Strata 1 adalah {total_strata_1}\")"
   ]
  },
  {
   "cell_type": "code",
   "execution_count": 4,
   "metadata": {},
   "outputs": [
    {
     "name": "stdout",
     "output_type": "stream",
     "text": [
      "Total Strata 2 adalah 7263\n"
     ]
    }
   ],
   "source": [
    "#calculate strata 2\n",
    "total_strata_2 = df_usaha['JK_Perempuan'].sum()\n",
    "print(f\"Total Strata 2 adalah {total_strata_2}\")"
   ]
  },
  {
   "attachments": {},
   "cell_type": "markdown",
   "metadata": {},
   "source": [
    "Kemudian, hitung total populasi"
   ]
  },
  {
   "cell_type": "code",
   "execution_count": 5,
   "metadata": {},
   "outputs": [
    {
     "name": "stdout",
     "output_type": "stream",
     "text": [
      "Total Populasi adalah 10226\n"
     ]
    }
   ],
   "source": [
    "#calculate total population\n",
    "total_pop = df_usaha['Total'].sum()\n",
    "print(f\"Total Populasi adalah {total_pop}\")"
   ]
  },
  {
   "attachments": {},
   "cell_type": "markdown",
   "metadata": {},
   "source": [
    "Lakukan pencarian standar deviasi pada masing-masing strata yang ada"
   ]
  },
  {
   "cell_type": "code",
   "execution_count": 6,
   "metadata": {},
   "outputs": [
    {
     "name": "stdout",
     "output_type": "stream",
     "text": [
      "Standar Populasi pada Strata 1 adalah 537.2885485239751\n"
     ]
    }
   ],
   "source": [
    "#calculate standar deviation from strata 1\n",
    "stdev_strata_1 = statistics.pstdev(df_usaha['JK_Laki_Laki'])\n",
    "print(f\"Standar Populasi pada Strata 1 adalah {stdev_strata_1}\")"
   ]
  },
  {
   "cell_type": "code",
   "execution_count": 7,
   "metadata": {},
   "outputs": [
    {
     "name": "stdout",
     "output_type": "stream",
     "text": [
      "Standar Populasi pada Strata 2 adalah 1345.720479659502\n"
     ]
    }
   ],
   "source": [
    "#calculate standar deviation from strata 2\n",
    "stdev_strata_2 = statistics.pstdev(df_usaha['JK_Perempuan'])\n",
    "print(f\"Standar Populasi pada Strata 2 adalah {stdev_strata_2}\")"
   ]
  },
  {
   "cell_type": "markdown",
   "metadata": {},
   "source": [
    "Setelah melakukan penghitungan penentuan ukuran sampel pada stat trek size calculator, definisikan jumlah sampel yang telah berhasil didapatkan"
   ]
  },
  {
   "cell_type": "code",
   "execution_count": 8,
   "metadata": {},
   "outputs": [],
   "source": [
    "#define number of samples\n",
    "jumlah_sampel = 857"
   ]
  },
  {
   "attachments": {},
   "cell_type": "markdown",
   "metadata": {},
   "source": [
    "Menentukan jumlah sampel dengan proportional allocation\n",
    "$$\n",
    "\\ n_{h} = \\cfrac{n N_{h}}{N}\n",
    "$$\n",
    "\n",
    "- nh = jumlah sampel terpilih dengan proportional allocation\n",
    "- Nh = jumlah populasi strata\n",
    "- N = total populasi\n",
    "- n = jumlah sampel"
   ]
  },
  {
   "cell_type": "code",
   "execution_count": 11,
   "metadata": {},
   "outputs": [
    {
     "name": "stdout",
     "output_type": "stream",
     "text": [
      "Sampel pada strata-1 : 248 pelaku usaha e-commerce berjenis kelamin laki-laki yang diambil secara acak\n"
     ]
    }
   ],
   "source": [
    "#calculate sample from strata 1\n",
    "sampel_usaha_lk = (total_strata_1/total_pop)*jumlah_sampel\n",
    "print(f\"Sampel pada strata-1 : {round(sampel_usaha_lk)} pelaku usaha e-commerce berjenis kelamin laki-laki yang diambil secara acak\")"
   ]
  },
  {
   "cell_type": "code",
   "execution_count": 12,
   "metadata": {},
   "outputs": [
    {
     "name": "stdout",
     "output_type": "stream",
     "text": [
      "Sampel pada strata-2 : 609 pelaku usaha e-commerce berjenis kelamin perempuan yang diambil secara acak\n"
     ]
    }
   ],
   "source": [
    "#calculate sample from strata 2\n",
    "sampel_usaha_pr = (jumlah_sampel*total_strata_2)/total_pop\n",
    "print(f\"Sampel pada strata-2 : {round(sampel_usaha_pr)} pelaku usaha e-commerce berjenis kelamin perempuan yang diambil secara acak\")"
   ]
  },
  {
   "cell_type": "code",
   "execution_count": 13,
   "metadata": {},
   "outputs": [
    {
     "name": "stdout",
     "output_type": "stream",
     "text": [
      "Total sampel yang diperoleh : 857 pelaku usaha e-commerce\n"
     ]
    }
   ],
   "source": [
    "#calculate total sample\n",
    "total_sampel = sampel_usaha_lk + sampel_usaha_pr\n",
    "print(f\"Total sampel yang diperoleh : {round(total_sampel)} pelaku usaha e-commerce\")"
   ]
  }
 ],
 "metadata": {
  "kernelspec": {
   "display_name": "base",
   "language": "python",
   "name": "python3"
  },
  "language_info": {
   "codemirror_mode": {
    "name": "ipython",
    "version": 3
   },
   "file_extension": ".py",
   "mimetype": "text/x-python",
   "name": "python",
   "nbconvert_exporter": "python",
   "pygments_lexer": "ipython3",
   "version": "3.9.13"
  },
  "orig_nbformat": 4,
  "vscode": {
   "interpreter": {
    "hash": "54f9af6ddc79b051e9128ce8cb2638e61b0d4a26341234aa239af9f1ff0e14b4"
   }
  }
 },
 "nbformat": 4,
 "nbformat_minor": 2
}
